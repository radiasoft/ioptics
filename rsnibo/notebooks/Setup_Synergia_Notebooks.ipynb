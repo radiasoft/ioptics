{
 "cells": [
  {
   "cell_type": "markdown",
   "metadata": {},
   "source": [
    "#### Jupyter Setup for Synergia Notebooks\n",
    "\n",
    "This simple notebook is used to make sure the necessary Github repositories have been cloned into a good working area, and the latest RadiaSoft Python modules have been installed.\n",
    "\n",
    "Note: this forces an update and reinstall of the libraries."
   ]
  },
  {
   "cell_type": "code",
   "execution_count": 2,
   "metadata": {
    "collapsed": false
   },
   "outputs": [
    {
     "name": "stdout",
     "output_type": "stream",
     "text": [
      "Uninstalling rsbeams-20160927.182201:\n",
      "  Successfully uninstalled rsbeams-20160927.182201\n",
      "Uninstalling rssynergia-20160927.192036:\n",
      "  Successfully uninstalled rssynergia-20160927.192036\n",
      "/usr/bin/sh: -c: line 0: syntax error near unexpected token `('\n",
      "/usr/bin/sh: -c: line 0: `mv /home/vagrant/jupyter+'/ioptics' MY_LOCAL+'/ioptics'+datetime.datetime.now().strftime(\"20%y%m%d.%H%M%S\")'\n",
      "fatal: destination path '/home/vagrant/jupyter/ioptics' already exists and is not an empty directory.\n",
      "/usr/bin/sh: -c: line 0: syntax error near unexpected token `('\n",
      "/usr/bin/sh: -c: line 0: `mv /home/vagrant/jupyter+'/rsbeams' MY_LOCAL+'/rsbeams'+datetime.datetime.now().strftime(\"20%y%m%d.%H%M%S\")'\n",
      "fatal: destination path '/home/vagrant/jupyter/rsbeams' already exists and is not an empty directory.\n"
     ]
    }
   ],
   "source": [
    "# system imports\n",
    "import sys, os, datetime\n",
    "\n",
    "# force an update to the latest version of the libraries\n",
    "!pip uninstall -y rsbeams\n",
    "!pip -q install git+git://github.com/radiasoft/rsbeams\n",
    "!pip uninstall -y rssynergia\n",
    "!pip -q install git+git://github.com/radiasoft/rssynergia\n",
    "\n",
    "# specify directory for git clones\n",
    "MY_LOCAL='/home/vagrant/jupyter'   # use this on RadiaSoft's Jupyter server\n",
    "\n",
    "# timestamp for renaming directories\n",
    "MY_TIME_STAMP = datetime.datetime.now().strftime(\"20%y%m%d.%H%M%S\")\n",
    "\n",
    "# clone necessary RadiaSoft repositories\n",
    "if os.path.isdir(MY_LOCAL+'/ioptics'):\n",
    "    !mv $MY_LOCAL/ioptics $MY_LOCAL/ioptics_$MY_TIME_STAMP\n",
    "!git clone https://github.com/radiasoft/ioptics $MY_LOCAL/ioptics\n",
    "\n",
    "if os.path.isdir(MY_LOCAL+'/rsbeams'):\n",
    "    !mv $MY_LOCAL/rsbeams $MY_LOCAL/rsbeams_$MY_TIME_STAMP\n",
    "!git clone https://github.com/radiasoft/rsbeams $MY_LOCAL/rsbeams\n",
    "\n",
    "# install RadiaSoft styles for matplotlib, if necessary\n",
    "if os.path.isdir('/home/vagrant/.config/matplotlib') == False:\n",
    "    !mkdir /home/vagrant/.config/matplotlib\n",
    "if os.path.isdir('/home/vagrant/.config/matplotlib/stylelib') == False:\n",
    "    !mkdir /home/vagrant/.config/matplotlib/stylelib\n",
    "!cp $MY_LOCAL/rsbeams/rsbeams/matplotlib/stylelib/*.mplstyle /home/vagrant/.config/matplotlib/stylelib/"
   ]
  },
  {
   "cell_type": "code",
   "execution_count": null,
   "metadata": {
    "collapsed": true
   },
   "outputs": [],
   "source": []
  }
 ],
 "metadata": {
  "kernelspec": {
   "display_name": "Python 2",
   "language": "python",
   "name": "python2"
  },
  "language_info": {
   "codemirror_mode": {
    "name": "ipython",
    "version": 2
   },
   "file_extension": ".py",
   "mimetype": "text/x-python",
   "name": "python",
   "nbconvert_exporter": "python",
   "pygments_lexer": "ipython2",
   "version": "2.7.10"
  }
 },
 "nbformat": 4,
 "nbformat_minor": 1
}
